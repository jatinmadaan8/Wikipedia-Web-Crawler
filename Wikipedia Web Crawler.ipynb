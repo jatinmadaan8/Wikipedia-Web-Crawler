{
 "cells": [
  {
   "cell_type": "code",
   "execution_count": 1,
   "metadata": {},
   "outputs": [],
   "source": [
    "import time\n",
    "import urllib\n",
    "import requests\n",
    "from bs4 import BeautifulSoup\n",
    "\n",
    "start_url = \"https://en.wikipedia.org/wiki/Special:Random\"\n",
    "target_url = \"https://en.wikipedia.org/wiki/Philosophy\"\n",
    "\n",
    "article_chain = [start_url]"
   ]
  },
  {
   "cell_type": "code",
   "execution_count": 2,
   "metadata": {},
   "outputs": [],
   "source": [
    "def continue_crawl(search_history,target_url,max_steps=25):\n",
    "    if search_history[-1] == target_url:\n",
    "        print(\"We've found the target article!\")\n",
    "        return False\n",
    "    elif len(search_history) > 25:\n",
    "        print(\"The search has gone on suspiciously long, aborting search!\")\n",
    "        return False\n",
    "    elif search_history[-1] in search_history[:-1]:\n",
    "        print(\"We've arrived at an article we've already seen, aborting search!\")\n",
    "        return False\n",
    "    else:\n",
    "        return True\n",
    "    "
   ]
  },
  {
   "cell_type": "code",
   "execution_count": 6,
   "metadata": {},
   "outputs": [],
   "source": [
    "def find_first_link(url):\n",
    "    response = requests.get(url)\n",
    "    html = response.text\n",
    "    soup = BeautifulSoup(html, \"html.parser\")\n",
    "    content_div = soup.find(id=\"mw-content-text\").find(class_=\"mw-parser-output\")\n",
    "    for element in content_div.find_all(\"p\", recursive=False):\n",
    "        if element.find('a', recursive=False):\n",
    "            article_link = element.find('a', recursive=False).get('href')\n",
    "            break\n",
    "    \n",
    "    if not article_link:\n",
    "        return\n",
    "    \n",
    "    first_link = urllib.parse.urljoin('https://en.wikipedia.org/', article_link)\n",
    "    \n",
    "    return first_link\n",
    "    "
   ]
  },
  {
   "cell_type": "code",
   "execution_count": 7,
   "metadata": {},
   "outputs": [
    {
     "name": "stdout",
     "output_type": "stream",
     "text": [
      "https://en.wikipedia.org/wiki/Special:Random\n",
      "https://en.wikipedia.org/wiki/Moravian-Silesian_Region\n",
      "https://en.wikipedia.org/wiki/Czech_language\n",
      "https://en.wikipedia.org/wiki/Latin\n",
      "https://en.wikipedia.org/wiki/Classical_language\n",
      "https://en.wikipedia.org/wiki/Language\n",
      "https://en.wikipedia.org/wiki/Communication\n",
      "https://en.wikipedia.org/wiki/Meaning_(semiotics)\n",
      "https://en.wikipedia.org/wiki/Semiotics\n",
      "https://en.wikipedia.org/wiki/Sign_process\n",
      "https://en.wikipedia.org/wiki/Greek_language\n",
      "https://en.wikipedia.org/wiki/Modern_Greek\n",
      "https://en.wikipedia.org/wiki/Colloquialism\n",
      "https://en.wikipedia.org/wiki/Linguistics\n",
      "https://en.wikipedia.org/wiki/Science\n",
      "https://en.wikipedia.org/wiki/Latin_language\n",
      "We've arrived at an article we've already seen, aborting search!\n"
     ]
    }
   ],
   "source": [
    "while continue_crawl(article_chain,target_url):\n",
    "    print(article_chain[-1])\n",
    "    first_link = find_first_link(article_chain[-1])\n",
    "    \n",
    "    if not first_link:\n",
    "        print(\"We've arrived at an article with no links, aborting search!\")\n",
    "        break\n",
    "    \n",
    "    article_chain.append(first_link)\n",
    "    time.sleep(2)"
   ]
  },
  {
   "cell_type": "code",
   "execution_count": null,
   "metadata": {},
   "outputs": [],
   "source": []
  }
 ],
 "metadata": {
  "kernelspec": {
   "display_name": "Python 3",
   "language": "python",
   "name": "python3"
  },
  "language_info": {
   "codemirror_mode": {
    "name": "ipython",
    "version": 3
   },
   "file_extension": ".py",
   "mimetype": "text/x-python",
   "name": "python",
   "nbconvert_exporter": "python",
   "pygments_lexer": "ipython3",
   "version": "3.7.1"
  }
 },
 "nbformat": 4,
 "nbformat_minor": 2
}
